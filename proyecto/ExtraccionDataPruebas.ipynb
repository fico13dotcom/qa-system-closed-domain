{
 "cells": [
  {
   "cell_type": "code",
   "execution_count": 3,
   "metadata": {},
   "outputs": [],
   "source": [
    "import sys\n",
    "from SPARQLWrapper import SPARQLWrapper, JSON, RDF, XML\n",
    "from pandas import json_normalize\n",
    "import pandas as pd\n",
    "from rdflib import URIRef, BNode, Literal\n",
    "from rdflib import Namespace\n",
    "from urllib.parse import quote\n",
    "import json\n",
    "from datetime import date\n"
   ]
  },
  {
   "cell_type": "code",
   "execution_count": null,
   "metadata": {},
   "outputs": [],
   "source": [
    "### http://UPS-SCLAB-04:7200/repositories/PracticaFinal\n",
    "endPoint = \"https://dbpedia.org/sparql\"\n",
    "sparql = SPARQLWrapper(endPoint)"
   ]
  },
  {
   "cell_type": "code",
   "execution_count": null,
   "metadata": {},
   "outputs": [],
   "source": [
    "def get_results(query):\n",
    "    sparql.setReturnFormat(JSON)\n",
    "    sparql.setQuery(query)\n",
    "    results = sparql.query().convert()\n",
    "    return(results)"
   ]
  },
  {
   "cell_type": "code",
   "execution_count": null,
   "metadata": {},
   "outputs": [],
   "source": []
  },
  {
   "cell_type": "code",
   "execution_count": null,
   "metadata": {},
   "outputs": [],
   "source": [
    "def get_reource_query_2(resource, level):\n",
    "    resource = quote(resource)\n",
    "    query = \"\"\"\n",
    "    PREFIX skos: <http://www.w3.org/2004/02/skos/core#>\n",
    "    PREFIX rdfs: <http://www.w3.org/2000/01/rdf-schema#>\n",
    "    PREFIX dct: <http://purl.org/dc/terms/>\n",
    "\n",
    "    select distinct ?level ?r ?c1\n",
    "        {\n",
    "            {VALUES (?r ?level) {(dbc:%s + %s)}\n",
    "            \n",
    "                ?r ^skos:broader{1} ?c1.\n",
    "\n",
    "            FILTER (!regex(?c1, \"lists\"))\n",
    "        }\n",
    "    \n",
    "    }    \n",
    "    \"\"\" %(resource,str(level))\n",
    "\n",
    "    resultados = get_results(query)\n",
    "    return resultados[\"results\"][\"bindings\"]"
   ]
  }
 ],
 "metadata": {
  "kernelspec": {
   "display_name": "Python 3",
   "language": "python",
   "name": "python3"
  },
  "language_info": {
   "codemirror_mode": {
    "name": "ipython",
    "version": 3
   },
   "file_extension": ".py",
   "mimetype": "text/x-python",
   "name": "python",
   "nbconvert_exporter": "python",
   "pygments_lexer": "ipython3",
   "version": "3.10.6"
  },
  "orig_nbformat": 4
 },
 "nbformat": 4,
 "nbformat_minor": 2
}
