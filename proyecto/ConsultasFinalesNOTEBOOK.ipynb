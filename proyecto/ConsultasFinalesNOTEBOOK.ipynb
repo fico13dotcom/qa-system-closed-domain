{
 "cells": [
  {
   "cell_type": "code",
   "execution_count": 1,
   "metadata": {},
   "outputs": [],
   "source": [
    "import sys\n",
    "from SPARQLWrapper import SPARQLWrapper, JSON, RDF, XML\n",
    "from pandas import json_normalize\n",
    "import pandas as pd\n",
    "from rdflib import URIRef, BNode, Literal\n",
    "from rdflib import Namespace\n",
    "from urllib.parse import quote\n",
    "import json"
   ]
  },
  {
   "cell_type": "code",
   "execution_count": 2,
   "metadata": {},
   "outputs": [],
   "source": [
    "### http://UPS-SCLAB-04:7200/repositories/PracticaFinal\n",
    "endPoint = \"https://dbpedia.org/sparql\"\n",
    "sparql = SPARQLWrapper(endPoint)"
   ]
  },
  {
   "cell_type": "code",
   "execution_count": 3,
   "metadata": {},
   "outputs": [],
   "source": [
    "def get_results(query):\n",
    "    sparql.setReturnFormat(JSON)\n",
    "    sparql.setQuery(query)\n",
    "    results = sparql.query().convert()\n",
    "    return(results)"
   ]
  },
  {
   "cell_type": "code",
   "execution_count": 4,
   "metadata": {},
   "outputs": [],
   "source": [
    "def receive_broaders_lists(list_broaders):\n",
    "\n",
    "    for i in list_broaders:\n",
    "      \n",
    "        resource = quote(i)\n",
    "        query = \"\"\"\n",
    "        PREFIX skos: <http://www.w3.org/2004/02/skos/core#>\n",
    "        PREFIX rdfs: <http://www.w3.org/2000/01/rdf-schema#>\n",
    "        PREFIX dct: <http://purl.org/dc/terms/>\n",
    "\n",
    "        select distinct ?w\n",
    "            {\n",
    "                {VALUES (?r) {(dbc:%s)}\n",
    "\n",
    "                    ?subject dcterms:subject ?r.\n",
    "                    ?subject foaf:isPrimaryTopicOf ?w.\n",
    "\n",
    "\n",
    "                FILTER (!regex(?w, \"lists\"))\n",
    "            }\n",
    "    \n",
    "        }    \n",
    "        \"\"\"%(resource)\n",
    "\n",
    "    resultados = get_results(query)\n",
    "    df_consulta1 = json_normalize(resultados[\"results\"][\"bindings\"])\n",
    "    return df_consulta1 "
   ]
  },
  {
   "cell_type": "code",
   "execution_count": 5,
   "metadata": {},
   "outputs": [],
   "source": [
    "# METODO PARA OBTENER EL QUERY\n",
    "def get_reource_query(resource, level):\n",
    "\n",
    "    query = \"\"\"\n",
    "    PREFIX skos: <http://www.w3.org/2004/02/skos/core#>\n",
    "    PREFIX rdfs: <http://www.w3.org/2000/01/rdf-schema#>\n",
    "    PREFIX dct: <http://purl.org/dc/terms/>\n",
    "\n",
    "    select distinct ?level ?r ?c1\n",
    "        {\n",
    "            {VALUES (?r ?level) {(dbc:\"\"\" + resource +\"\"\" + \"\"\" + str(level) +\"\"\")}\n",
    "                ?r ^skos:broader{1} ?c1.\n",
    "\n",
    "            FILTER (!regex(?c1, \"lists\"))\n",
    "        }\n",
    "    \n",
    "    }    \n",
    "    \"\"\"\n",
    "\n",
    "    resultados = (get_results(query))\n",
    "\n",
    "    df_consulta1 = json_normalize(resultados[\"results\"][\"bindings\"])\n",
    "\n",
    "    return df_consulta1\n",
    "\n"
   ]
  },
  {
   "cell_type": "code",
   "execution_count": 6,
   "metadata": {},
   "outputs": [],
   "source": [
    "def get_reource_query_2(resource, level):\n",
    "    resource = quote(resource)\n",
    "    query = \"\"\"\n",
    "    PREFIX skos: <http://www.w3.org/2004/02/skos/core#>\n",
    "    PREFIX rdfs: <http://www.w3.org/2000/01/rdf-schema#>\n",
    "    PREFIX dct: <http://purl.org/dc/terms/>\n",
    "\n",
    "    select distinct ?level ?r ?c1\n",
    "        {\n",
    "            {VALUES (?r ?level) {(dbc:%s + %s)}\n",
    "                ?r ^skos:broader{1} ?c1.\n",
    "\n",
    "            FILTER (!regex(?c1, \"lists\"))\n",
    "        }\n",
    "    \n",
    "    }    \n",
    "    \"\"\" %(resource,str(level))\n",
    "\n",
    "    resultados = get_results(query)\n",
    "    return resultados[\"results\"][\"bindings\"]"
   ]
  },
  {
   "cell_type": "code",
   "execution_count": 7,
   "metadata": {},
   "outputs": [
    {
     "name": "stdout",
     "output_type": "stream",
     "text": [
      "<class 'list'>\n"
     ]
    }
   ],
   "source": [
    "resource = \"Pollution\"\n",
    "level = 1\n",
    "resultados = get_reource_query_2(resource, level)\n",
    "\n",
    "print(type(resultados))"
   ]
  },
  {
   "cell_type": "code",
   "execution_count": 18,
   "metadata": {},
   "outputs": [
    {
     "name": "stdout",
     "output_type": "stream",
     "text": [
      "level 1\n",
      "r http://dbpedia.org/resource/Category:Pollution\n",
      "c1 http://dbpedia.org/resource/Category:Waste\n",
      "level 1\n",
      "r http://dbpedia.org/resource/Category:Pollution\n",
      "c1 http://dbpedia.org/resource/Category:Pollution_control_technologies\n",
      "level 1\n",
      "r http://dbpedia.org/resource/Category:Pollution\n",
      "c1 http://dbpedia.org/resource/Category:Electronic_waste\n",
      "level 1\n",
      "r http://dbpedia.org/resource/Category:Pollution\n",
      "c1 http://dbpedia.org/resource/Category:Species_endangered_by_pollution\n",
      "level 1\n",
      "r http://dbpedia.org/resource/Category:Pollution\n",
      "c1 http://dbpedia.org/resource/Category:Litter\n",
      "level 1\n",
      "r http://dbpedia.org/resource/Category:Pollution\n",
      "c1 http://dbpedia.org/resource/Category:Pollutants\n",
      "level 1\n",
      "r http://dbpedia.org/resource/Category:Pollution\n",
      "c1 http://dbpedia.org/resource/Category:Industrial_emissions_control\n",
      "level 1\n",
      "r http://dbpedia.org/resource/Category:Pollution\n",
      "c1 http://dbpedia.org/resource/Category:Soil_contamination\n",
      "level 1\n",
      "r http://dbpedia.org/resource/Category:Pollution\n",
      "c1 http://dbpedia.org/resource/Category:Radioactive_contamination\n",
      "level 1\n",
      "r http://dbpedia.org/resource/Category:Pollution\n",
      "c1 http://dbpedia.org/resource/Category:Water_pollution\n",
      "level 1\n",
      "r http://dbpedia.org/resource/Category:Pollution\n",
      "c1 http://dbpedia.org/resource/Category:Ocean_pollution\n",
      "level 1\n",
      "r http://dbpedia.org/resource/Category:Pollution\n",
      "c1 http://dbpedia.org/resource/Category:Noise_pollution\n",
      "level 1\n",
      "r http://dbpedia.org/resource/Category:Pollution\n",
      "c1 http://dbpedia.org/resource/Category:Pollution_by_country\n",
      "level 1\n",
      "r http://dbpedia.org/resource/Category:Pollution\n",
      "c1 http://dbpedia.org/resource/Category:Space_debris\n",
      "level 1\n",
      "r http://dbpedia.org/resource/Category:Pollution\n",
      "c1 http://dbpedia.org/resource/Category:Chemical_accident\n",
      "level 1\n",
      "r http://dbpedia.org/resource/Category:Pollution\n",
      "c1 http://dbpedia.org/resource/Category:Light_pollution\n",
      "level 1\n",
      "r http://dbpedia.org/resource/Category:Pollution\n",
      "c1 http://dbpedia.org/resource/Category:Air_pollution\n",
      "level 1\n",
      "r http://dbpedia.org/resource/Category:Pollution\n",
      "c1 http://dbpedia.org/resource/Category:Ecotoxicology\n",
      "level 1\n",
      "r http://dbpedia.org/resource/Category:Pollution\n",
      "c1 http://dbpedia.org/resource/Category:Biological_contamination\n"
     ]
    }
   ],
   "source": [
    "for resultado in resultados:\n",
    "\n",
    "    #print(type(resultado))\n",
    "\n",
    "    for key, value in resultado.items():\n",
    "\n",
    "        #print(key,value)\n",
    "    \n",
    "        if key == 'c1':\n",
    "\n",
    "\n",
    "            for key_2, value_2 in value.items():\n",
    "\n",
    "                #print(key_2,value_2)\n",
    "                if key_2 == 'value':\n",
    "\n",
    "                    print(key,value_2)\n",
    "\n",
    "        if key == 'r':\n",
    "        \n",
    "            for key_2, value_2 in value.items():\n",
    "\n",
    "                #print(key_2,value_2)\n",
    "                if key_2 == 'value':\n",
    "\n",
    "                    print(key,value_2)\n",
    "                    \n",
    "\n",
    "        if key == 'level':\n",
    "\n",
    "            for key_2, value_2 in value.items():\n",
    "\n",
    "                #print(key_2,value_2)\n",
    "                if key_2 == 'value':\n",
    "\n",
    "                    print(key,value_2)\n",
    "\n",
    "        \n",
    "        \n"
   ]
  },
  {
   "cell_type": "code",
   "execution_count": null,
   "metadata": {},
   "outputs": [],
   "source": [
    "'''\n",
    "lista = []\n",
    "\n",
    "for resultado in resultados:\n",
    "for item in resultado:\n",
    "            url = item[\"c1\"][\"value\"]\n",
    "                    clave = url.split(\":\")[-1]\n",
    "                    lista.append(clave)\n",
    "            json_data = json.dumps(lista)\n",
    "            return JsonResponse(json_data, safe=False)\n",
    "\n",
    "'''"
   ]
  },
  {
   "cell_type": "code",
   "execution_count": 23,
   "metadata": {},
   "outputs": [
    {
     "ename": "TypeError",
     "evalue": "string indices must be integers",
     "output_type": "error",
     "traceback": [
      "\u001b[0;31m---------------------------------------------------------------------------\u001b[0m",
      "\u001b[0;31mTypeError\u001b[0m                                 Traceback (most recent call last)",
      "Cell \u001b[0;32mIn[23], line 10\u001b[0m\n\u001b[1;32m      4\u001b[0m \u001b[39mfor\u001b[39;00m resultado \u001b[39min\u001b[39;00m resultados:\n\u001b[1;32m      5\u001b[0m \n\u001b[1;32m      6\u001b[0m     \u001b[39m#print(resultado)\u001b[39;00m\n\u001b[1;32m      8\u001b[0m     \u001b[39mfor\u001b[39;00m item \u001b[39min\u001b[39;00m resultado:\n\u001b[0;32m---> 10\u001b[0m         url \u001b[39m=\u001b[39m item[\u001b[39m\"\u001b[39;49m\u001b[39mlevel\u001b[39;49m\u001b[39m\"\u001b[39;49m][\u001b[39m\"\u001b[39m\u001b[39mvalue\u001b[39m\u001b[39m\"\u001b[39m]\n\u001b[1;32m     11\u001b[0m         clave \u001b[39m=\u001b[39m url\u001b[39m.\u001b[39msplit(\u001b[39m\"\u001b[39m\u001b[39m:\u001b[39m\u001b[39m\"\u001b[39m)[\u001b[39m-\u001b[39m\u001b[39m1\u001b[39m]\n\u001b[1;32m     12\u001b[0m         lista\u001b[39m.\u001b[39mappend(clave)\n",
      "\u001b[0;31mTypeError\u001b[0m: string indices must be integers"
     ]
    }
   ],
   "source": [
    "resultados = []\n",
    "\n"
   ]
  },
  {
   "cell_type": "code",
   "execution_count": 9,
   "metadata": {},
   "outputs": [
    {
     "name": "stdout",
     "output_type": "stream",
     "text": [
      "<class 'pandas.core.frame.DataFrame'>\n"
     ]
    },
    {
     "data": {
      "text/html": [
       "<div>\n",
       "<style scoped>\n",
       "    .dataframe tbody tr th:only-of-type {\n",
       "        vertical-align: middle;\n",
       "    }\n",
       "\n",
       "    .dataframe tbody tr th {\n",
       "        vertical-align: top;\n",
       "    }\n",
       "\n",
       "    .dataframe thead th {\n",
       "        text-align: right;\n",
       "    }\n",
       "</style>\n",
       "<table border=\"1\" class=\"dataframe\">\n",
       "  <thead>\n",
       "    <tr style=\"text-align: right;\">\n",
       "      <th></th>\n",
       "      <th>level.type</th>\n",
       "      <th>level.datatype</th>\n",
       "      <th>level.value</th>\n",
       "      <th>r.type</th>\n",
       "      <th>r.value</th>\n",
       "      <th>c1.type</th>\n",
       "      <th>c1.value</th>\n",
       "    </tr>\n",
       "  </thead>\n",
       "  <tbody>\n",
       "    <tr>\n",
       "      <th>0</th>\n",
       "      <td>typed-literal</td>\n",
       "      <td>http://www.w3.org/2001/XMLSchema#integer</td>\n",
       "      <td>2</td>\n",
       "      <td>uri</td>\n",
       "      <td>http://dbpedia.org/resource/Category:Pollution</td>\n",
       "      <td>uri</td>\n",
       "      <td>http://dbpedia.org/resource/Category:Waste</td>\n",
       "    </tr>\n",
       "    <tr>\n",
       "      <th>1</th>\n",
       "      <td>typed-literal</td>\n",
       "      <td>http://www.w3.org/2001/XMLSchema#integer</td>\n",
       "      <td>2</td>\n",
       "      <td>uri</td>\n",
       "      <td>http://dbpedia.org/resource/Category:Pollution</td>\n",
       "      <td>uri</td>\n",
       "      <td>http://dbpedia.org/resource/Category:Pollution...</td>\n",
       "    </tr>\n",
       "    <tr>\n",
       "      <th>2</th>\n",
       "      <td>typed-literal</td>\n",
       "      <td>http://www.w3.org/2001/XMLSchema#integer</td>\n",
       "      <td>2</td>\n",
       "      <td>uri</td>\n",
       "      <td>http://dbpedia.org/resource/Category:Pollution</td>\n",
       "      <td>uri</td>\n",
       "      <td>http://dbpedia.org/resource/Category:Electroni...</td>\n",
       "    </tr>\n",
       "    <tr>\n",
       "      <th>3</th>\n",
       "      <td>typed-literal</td>\n",
       "      <td>http://www.w3.org/2001/XMLSchema#integer</td>\n",
       "      <td>2</td>\n",
       "      <td>uri</td>\n",
       "      <td>http://dbpedia.org/resource/Category:Pollution</td>\n",
       "      <td>uri</td>\n",
       "      <td>http://dbpedia.org/resource/Category:Species_e...</td>\n",
       "    </tr>\n",
       "    <tr>\n",
       "      <th>4</th>\n",
       "      <td>typed-literal</td>\n",
       "      <td>http://www.w3.org/2001/XMLSchema#integer</td>\n",
       "      <td>2</td>\n",
       "      <td>uri</td>\n",
       "      <td>http://dbpedia.org/resource/Category:Pollution</td>\n",
       "      <td>uri</td>\n",
       "      <td>http://dbpedia.org/resource/Category:Litter</td>\n",
       "    </tr>\n",
       "  </tbody>\n",
       "</table>\n",
       "</div>"
      ],
      "text/plain": [
       "      level.type                            level.datatype level.value r.type  \\\n",
       "0  typed-literal  http://www.w3.org/2001/XMLSchema#integer           2    uri   \n",
       "1  typed-literal  http://www.w3.org/2001/XMLSchema#integer           2    uri   \n",
       "2  typed-literal  http://www.w3.org/2001/XMLSchema#integer           2    uri   \n",
       "3  typed-literal  http://www.w3.org/2001/XMLSchema#integer           2    uri   \n",
       "4  typed-literal  http://www.w3.org/2001/XMLSchema#integer           2    uri   \n",
       "\n",
       "                                          r.value c1.type  \\\n",
       "0  http://dbpedia.org/resource/Category:Pollution     uri   \n",
       "1  http://dbpedia.org/resource/Category:Pollution     uri   \n",
       "2  http://dbpedia.org/resource/Category:Pollution     uri   \n",
       "3  http://dbpedia.org/resource/Category:Pollution     uri   \n",
       "4  http://dbpedia.org/resource/Category:Pollution     uri   \n",
       "\n",
       "                                            c1.value  \n",
       "0         http://dbpedia.org/resource/Category:Waste  \n",
       "1  http://dbpedia.org/resource/Category:Pollution...  \n",
       "2  http://dbpedia.org/resource/Category:Electroni...  \n",
       "3  http://dbpedia.org/resource/Category:Species_e...  \n",
       "4        http://dbpedia.org/resource/Category:Litter  "
      ]
     },
     "execution_count": 9,
     "metadata": {},
     "output_type": "execute_result"
    }
   ],
   "source": [
    "print(type(resultados))\n",
    "\n",
    "resultados.head()"
   ]
  },
  {
   "cell_type": "code",
   "execution_count": 10,
   "metadata": {},
   "outputs": [
    {
     "data": {
      "text/html": [
       "<div>\n",
       "<style scoped>\n",
       "    .dataframe tbody tr th:only-of-type {\n",
       "        vertical-align: middle;\n",
       "    }\n",
       "\n",
       "    .dataframe tbody tr th {\n",
       "        vertical-align: top;\n",
       "    }\n",
       "\n",
       "    .dataframe thead th {\n",
       "        text-align: right;\n",
       "    }\n",
       "</style>\n",
       "<table border=\"1\" class=\"dataframe\">\n",
       "  <thead>\n",
       "    <tr style=\"text-align: right;\">\n",
       "      <th></th>\n",
       "      <th>level.value</th>\n",
       "      <th>r.value</th>\n",
       "      <th>c1.value</th>\n",
       "    </tr>\n",
       "  </thead>\n",
       "  <tbody>\n",
       "    <tr>\n",
       "      <th>0</th>\n",
       "      <td>2</td>\n",
       "      <td>http://dbpedia.org/resource/Category:Pollution</td>\n",
       "      <td>http://dbpedia.org/resource/Category:Waste</td>\n",
       "    </tr>\n",
       "    <tr>\n",
       "      <th>1</th>\n",
       "      <td>2</td>\n",
       "      <td>http://dbpedia.org/resource/Category:Pollution</td>\n",
       "      <td>http://dbpedia.org/resource/Category:Pollution...</td>\n",
       "    </tr>\n",
       "    <tr>\n",
       "      <th>2</th>\n",
       "      <td>2</td>\n",
       "      <td>http://dbpedia.org/resource/Category:Pollution</td>\n",
       "      <td>http://dbpedia.org/resource/Category:Electroni...</td>\n",
       "    </tr>\n",
       "  </tbody>\n",
       "</table>\n",
       "</div>"
      ],
      "text/plain": [
       "  level.value                                         r.value  \\\n",
       "0           2  http://dbpedia.org/resource/Category:Pollution   \n",
       "1           2  http://dbpedia.org/resource/Category:Pollution   \n",
       "2           2  http://dbpedia.org/resource/Category:Pollution   \n",
       "\n",
       "                                            c1.value  \n",
       "0         http://dbpedia.org/resource/Category:Waste  \n",
       "1  http://dbpedia.org/resource/Category:Pollution...  \n",
       "2  http://dbpedia.org/resource/Category:Electroni...  "
      ]
     },
     "execution_count": 10,
     "metadata": {},
     "output_type": "execute_result"
    }
   ],
   "source": [
    "# Filter the columns that are of interest.\n",
    "resultados = resultados[['level.value', 'r.value', 'c1.value']]\n",
    "\n",
    "resultados.head(3)\n"
   ]
  },
  {
   "cell_type": "code",
   "execution_count": 11,
   "metadata": {},
   "outputs": [
    {
     "name": "stdout",
     "output_type": "stream",
     "text": [
      "['http://dbpedia.org/resource/Category:Waste', 'http://dbpedia.org/resource/Category:Pollution_control_technologies', 'http://dbpedia.org/resource/Category:Electronic_waste', 'http://dbpedia.org/resource/Category:Species_endangered_by_pollution', 'http://dbpedia.org/resource/Category:Litter', 'http://dbpedia.org/resource/Category:Pollutants', 'http://dbpedia.org/resource/Category:Industrial_emissions_control', 'http://dbpedia.org/resource/Category:Soil_contamination', 'http://dbpedia.org/resource/Category:Radioactive_contamination', 'http://dbpedia.org/resource/Category:Water_pollution', 'http://dbpedia.org/resource/Category:Ocean_pollution', 'http://dbpedia.org/resource/Category:Noise_pollution', 'http://dbpedia.org/resource/Category:Pollution_by_country', 'http://dbpedia.org/resource/Category:Space_debris', 'http://dbpedia.org/resource/Category:Chemical_accident', 'http://dbpedia.org/resource/Category:Light_pollution', 'http://dbpedia.org/resource/Category:Air_pollution', 'http://dbpedia.org/resource/Category:Ecotoxicology', 'http://dbpedia.org/resource/Category:Biological_contamination']\n"
     ]
    }
   ],
   "source": [
    "# Assuming your DataFrame is named df and you want to transform the 'column_name' column\n",
    "column_list = resultados['c1.value'].tolist()\n",
    "\n",
    "# Display the resulting list\n",
    "print(column_list)"
   ]
  },
  {
   "cell_type": "code",
   "execution_count": 6,
   "metadata": {},
   "outputs": [],
   "source": [
    "lista = [\"Waste\",\"Pollution_control_technologies\",\"Electronic_waste\"]\n",
    "resultados = receive_broaders_lists(lista)"
   ]
  },
  {
   "cell_type": "code",
   "execution_count": 7,
   "metadata": {},
   "outputs": [
    {
     "name": "stdout",
     "output_type": "stream",
     "text": [
      "<class 'pandas.core.frame.DataFrame'>\n"
     ]
    }
   ],
   "source": [
    "print(type(resultados))"
   ]
  },
  {
   "cell_type": "code",
   "execution_count": 8,
   "metadata": {},
   "outputs": [
    {
     "data": {
      "text/html": [
       "<div>\n",
       "<style scoped>\n",
       "    .dataframe tbody tr th:only-of-type {\n",
       "        vertical-align: middle;\n",
       "    }\n",
       "\n",
       "    .dataframe tbody tr th {\n",
       "        vertical-align: top;\n",
       "    }\n",
       "\n",
       "    .dataframe thead th {\n",
       "        text-align: right;\n",
       "    }\n",
       "</style>\n",
       "<table border=\"1\" class=\"dataframe\">\n",
       "  <thead>\n",
       "    <tr style=\"text-align: right;\">\n",
       "      <th></th>\n",
       "      <th>w.type</th>\n",
       "      <th>w.value</th>\n",
       "    </tr>\n",
       "  </thead>\n",
       "  <tbody>\n",
       "    <tr>\n",
       "      <th>0</th>\n",
       "      <td>uri</td>\n",
       "      <td>http://en.wikipedia.org/wiki/Electronic_waste</td>\n",
       "    </tr>\n",
       "    <tr>\n",
       "      <th>1</th>\n",
       "      <td>uri</td>\n",
       "      <td>http://en.wikipedia.org/wiki/E-Stewards</td>\n",
       "    </tr>\n",
       "    <tr>\n",
       "      <th>2</th>\n",
       "      <td>uri</td>\n",
       "      <td>http://en.wikipedia.org/wiki/Techreturns</td>\n",
       "    </tr>\n",
       "    <tr>\n",
       "      <th>3</th>\n",
       "      <td>uri</td>\n",
       "      <td>http://en.wikipedia.org/wiki/Global_waste_trade</td>\n",
       "    </tr>\n",
       "    <tr>\n",
       "      <th>4</th>\n",
       "      <td>uri</td>\n",
       "      <td>http://en.wikipedia.org/wiki/Closing_the_Loop</td>\n",
       "    </tr>\n",
       "    <tr>\n",
       "      <th>5</th>\n",
       "      <td>uri</td>\n",
       "      <td>http://en.wikipedia.org/wiki/Computer_liquidator</td>\n",
       "    </tr>\n",
       "    <tr>\n",
       "      <th>6</th>\n",
       "      <td>uri</td>\n",
       "      <td>http://en.wikipedia.org/wiki/Demanufacturing</td>\n",
       "    </tr>\n",
       "    <tr>\n",
       "      <th>7</th>\n",
       "      <td>uri</td>\n",
       "      <td>http://en.wikipedia.org/wiki/Solving_the_E-was...</td>\n",
       "    </tr>\n",
       "    <tr>\n",
       "      <th>8</th>\n",
       "      <td>uri</td>\n",
       "      <td>http://en.wikipedia.org/wiki/MyGreenElectronics</td>\n",
       "    </tr>\n",
       "    <tr>\n",
       "      <th>9</th>\n",
       "      <td>uri</td>\n",
       "      <td>http://en.wikipedia.org/wiki/Disposable_camera</td>\n",
       "    </tr>\n",
       "    <tr>\n",
       "      <th>10</th>\n",
       "      <td>uri</td>\n",
       "      <td>http://en.wikipedia.org/wiki/ADISA_certification</td>\n",
       "    </tr>\n",
       "    <tr>\n",
       "      <th>11</th>\n",
       "      <td>uri</td>\n",
       "      <td>http://en.wikipedia.org/wiki/Metech_Incorporated</td>\n",
       "    </tr>\n",
       "    <tr>\n",
       "      <th>12</th>\n",
       "      <td>uri</td>\n",
       "      <td>http://en.wikipedia.org/wiki/Urban_mining</td>\n",
       "    </tr>\n",
       "    <tr>\n",
       "      <th>13</th>\n",
       "      <td>uri</td>\n",
       "      <td>http://en.wikipedia.org/wiki/World_Reuse,_Repa...</td>\n",
       "    </tr>\n",
       "    <tr>\n",
       "      <th>14</th>\n",
       "      <td>uri</td>\n",
       "      <td>http://en.wikipedia.org/wiki/Take-back_system</td>\n",
       "    </tr>\n",
       "  </tbody>\n",
       "</table>\n",
       "</div>"
      ],
      "text/plain": [
       "   w.type                                            w.value\n",
       "0     uri      http://en.wikipedia.org/wiki/Electronic_waste\n",
       "1     uri            http://en.wikipedia.org/wiki/E-Stewards\n",
       "2     uri           http://en.wikipedia.org/wiki/Techreturns\n",
       "3     uri    http://en.wikipedia.org/wiki/Global_waste_trade\n",
       "4     uri      http://en.wikipedia.org/wiki/Closing_the_Loop\n",
       "5     uri   http://en.wikipedia.org/wiki/Computer_liquidator\n",
       "6     uri       http://en.wikipedia.org/wiki/Demanufacturing\n",
       "7     uri  http://en.wikipedia.org/wiki/Solving_the_E-was...\n",
       "8     uri    http://en.wikipedia.org/wiki/MyGreenElectronics\n",
       "9     uri     http://en.wikipedia.org/wiki/Disposable_camera\n",
       "10    uri   http://en.wikipedia.org/wiki/ADISA_certification\n",
       "11    uri   http://en.wikipedia.org/wiki/Metech_Incorporated\n",
       "12    uri          http://en.wikipedia.org/wiki/Urban_mining\n",
       "13    uri  http://en.wikipedia.org/wiki/World_Reuse,_Repa...\n",
       "14    uri      http://en.wikipedia.org/wiki/Take-back_system"
      ]
     },
     "execution_count": 8,
     "metadata": {},
     "output_type": "execute_result"
    }
   ],
   "source": [
    "resultados"
   ]
  },
  {
   "cell_type": "code",
   "execution_count": 11,
   "metadata": {},
   "outputs": [
    {
     "data": {
      "text/html": [
       "<div>\n",
       "<style scoped>\n",
       "    .dataframe tbody tr th:only-of-type {\n",
       "        vertical-align: middle;\n",
       "    }\n",
       "\n",
       "    .dataframe tbody tr th {\n",
       "        vertical-align: top;\n",
       "    }\n",
       "\n",
       "    .dataframe thead th {\n",
       "        text-align: right;\n",
       "    }\n",
       "</style>\n",
       "<table border=\"1\" class=\"dataframe\">\n",
       "  <thead>\n",
       "    <tr style=\"text-align: right;\">\n",
       "      <th></th>\n",
       "      <th>level.value</th>\n",
       "      <th>r.value</th>\n",
       "      <th>c1.value</th>\n",
       "    </tr>\n",
       "  </thead>\n",
       "  <tbody>\n",
       "    <tr>\n",
       "      <th>0</th>\n",
       "      <td>3</td>\n",
       "      <td>http://dbpedia.org/resource/Category:Electroni...</td>\n",
       "      <td>http://dbpedia.org/resource/Category:Computer_...</td>\n",
       "    </tr>\n",
       "    <tr>\n",
       "      <th>1</th>\n",
       "      <td>3</td>\n",
       "      <td>http://dbpedia.org/resource/Category:Electroni...</td>\n",
       "      <td>http://dbpedia.org/resource/Category:Electroni...</td>\n",
       "    </tr>\n",
       "    <tr>\n",
       "      <th>2</th>\n",
       "      <td>3</td>\n",
       "      <td>http://dbpedia.org/resource/Category:Electroni...</td>\n",
       "      <td>http://dbpedia.org/resource/Category:Electroni...</td>\n",
       "    </tr>\n",
       "  </tbody>\n",
       "</table>\n",
       "</div>"
      ],
      "text/plain": [
       "  level.value                                            r.value  \\\n",
       "0           3  http://dbpedia.org/resource/Category:Electroni...   \n",
       "1           3  http://dbpedia.org/resource/Category:Electroni...   \n",
       "2           3  http://dbpedia.org/resource/Category:Electroni...   \n",
       "\n",
       "                                            c1.value  \n",
       "0  http://dbpedia.org/resource/Category:Computer_...  \n",
       "1  http://dbpedia.org/resource/Category:Electroni...  \n",
       "2  http://dbpedia.org/resource/Category:Electroni...  "
      ]
     },
     "execution_count": 11,
     "metadata": {},
     "output_type": "execute_result"
    }
   ],
   "source": [
    "# Filter the columns that are of interest.\n",
    "resultados = resultados[['level.value', 'r.value', 'c1.value']]\n",
    "\n",
    "resultados.head(3)"
   ]
  },
  {
   "cell_type": "code",
   "execution_count": 12,
   "metadata": {},
   "outputs": [
    {
     "name": "stdout",
     "output_type": "stream",
     "text": [
      "['http://dbpedia.org/resource/Category:Computer_recycling', 'http://dbpedia.org/resource/Category:Electronic_waste_in_Africa', 'http://dbpedia.org/resource/Category:Electronic_waste_in_Europe', 'http://dbpedia.org/resource/Category:Electronic_waste_in_Asia', 'http://dbpedia.org/resource/Category:Electronic_waste_by_country']\n"
     ]
    }
   ],
   "source": [
    "# Assuming your DataFrame is named df and you want to transform the 'column_name' column\n",
    "column_list = resultados['c1.value'].tolist()\n",
    "\n",
    "# Display the resulting list\n",
    "print(column_list)\n"
   ]
  },
  {
   "cell_type": "markdown",
   "metadata": {},
   "source": [
    "## Conexión base de datos para enviar los datos"
   ]
  },
  {
   "cell_type": "code",
   "execution_count": null,
   "metadata": {},
   "outputs": [],
   "source": []
  }
 ],
 "metadata": {
  "kernelspec": {
   "display_name": "Python 3",
   "language": "python",
   "name": "python3"
  },
  "language_info": {
   "codemirror_mode": {
    "name": "ipython",
    "version": 3
   },
   "file_extension": ".py",
   "mimetype": "text/x-python",
   "name": "python",
   "nbconvert_exporter": "python",
   "pygments_lexer": "ipython3",
   "version": "3.10.6"
  },
  "orig_nbformat": 4
 },
 "nbformat": 4,
 "nbformat_minor": 2
}
