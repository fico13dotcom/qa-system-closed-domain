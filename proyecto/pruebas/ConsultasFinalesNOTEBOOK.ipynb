{
 "cells": [
  {
   "cell_type": "code",
   "execution_count": 5,
   "metadata": {},
   "outputs": [],
   "source": [
    "import sys\n",
    "from SPARQLWrapper import SPARQLWrapper, JSON, RDF, XML\n",
    "from pandas import json_normalize\n",
    "import pandas as pd\n",
    "from rdflib import URIRef, BNode, Literal\n",
    "from rdflib import Namespace\n",
    "from urllib.parse import quote"
   ]
  },
  {
   "cell_type": "code",
   "execution_count": 2,
   "metadata": {},
   "outputs": [],
   "source": [
    "### http://UPS-SCLAB-04:7200/repositories/PracticaFinal\n",
    "endPoint = \"https://dbpedia.org/sparql\"\n",
    "sparql = SPARQLWrapper(endPoint)"
   ]
  },
  {
   "cell_type": "code",
   "execution_count": 3,
   "metadata": {},
   "outputs": [],
   "source": [
    "def get_results(query):\n",
    "    sparql.setReturnFormat(JSON)\n",
    "    sparql.setQuery(query)\n",
    "    results = sparql.query().convert()\n",
    "    return(results)"
   ]
  },
  {
   "cell_type": "code",
   "execution_count": 6,
   "metadata": {},
   "outputs": [],
   "source": [
    "def receive_broaders_lists(list_broaders,level):\n",
    "\n",
    "    for i in list_broaders:\n",
    "      \n",
    "        resource = quote(i)\n",
    "        query = \"\"\"\n",
    "        PREFIX skos: <http://www.w3.org/2004/02/skos/core#>\n",
    "        PREFIX rdfs: <http://www.w3.org/2000/01/rdf-schema#>\n",
    "        PREFIX dct: <http://purl.org/dc/terms/>\n",
    "\n",
    "        select distinct ?level ?r ?c1\n",
    "            {\n",
    "                {VALUES (?r ?level) {(dbc:%s + %s)}\n",
    "\n",
    "                    ?r ^skos:broader{1} ?c1.\n",
    "\n",
    "                FILTER (!regex(?c1, \"lists\"))\n",
    "            }\n",
    "    \n",
    "        }    \n",
    "        \"\"\"%(resource,str(level))\n",
    "\n",
    "    resultados = get_results(query)\n",
    "    df_consulta1 = json_normalize(resultados[\"results\"][\"bindings\"])\n",
    "    return df_consulta1 "
   ]
  },
  {
   "cell_type": "code",
   "execution_count": 7,
   "metadata": {},
   "outputs": [],
   "source": [
    "lista = [\"Waste\",\"Pollution_control_technologies\",\"Electronic_waste\"]\n",
    "level = 3\n",
    "resultados = receive_broaders_lists(lista, level)"
   ]
  },
  {
   "cell_type": "code",
   "execution_count": 8,
   "metadata": {},
   "outputs": [
    {
     "name": "stdout",
     "output_type": "stream",
     "text": [
      "<class 'pandas.core.frame.DataFrame'>\n"
     ]
    }
   ],
   "source": [
    "print(type(resultados))"
   ]
  },
  {
   "cell_type": "code",
   "execution_count": 10,
   "metadata": {},
   "outputs": [
    {
     "data": {
      "text/html": [
       "<div>\n",
       "<style scoped>\n",
       "    .dataframe tbody tr th:only-of-type {\n",
       "        vertical-align: middle;\n",
       "    }\n",
       "\n",
       "    .dataframe tbody tr th {\n",
       "        vertical-align: top;\n",
       "    }\n",
       "\n",
       "    .dataframe thead th {\n",
       "        text-align: right;\n",
       "    }\n",
       "</style>\n",
       "<table border=\"1\" class=\"dataframe\">\n",
       "  <thead>\n",
       "    <tr style=\"text-align: right;\">\n",
       "      <th></th>\n",
       "      <th>level.type</th>\n",
       "      <th>level.datatype</th>\n",
       "      <th>level.value</th>\n",
       "      <th>r.type</th>\n",
       "      <th>r.value</th>\n",
       "      <th>c1.type</th>\n",
       "      <th>c1.value</th>\n",
       "    </tr>\n",
       "  </thead>\n",
       "  <tbody>\n",
       "    <tr>\n",
       "      <th>0</th>\n",
       "      <td>typed-literal</td>\n",
       "      <td>http://www.w3.org/2001/XMLSchema#integer</td>\n",
       "      <td>3</td>\n",
       "      <td>uri</td>\n",
       "      <td>http://dbpedia.org/resource/Category:Electroni...</td>\n",
       "      <td>uri</td>\n",
       "      <td>http://dbpedia.org/resource/Category:Computer_...</td>\n",
       "    </tr>\n",
       "    <tr>\n",
       "      <th>1</th>\n",
       "      <td>typed-literal</td>\n",
       "      <td>http://www.w3.org/2001/XMLSchema#integer</td>\n",
       "      <td>3</td>\n",
       "      <td>uri</td>\n",
       "      <td>http://dbpedia.org/resource/Category:Electroni...</td>\n",
       "      <td>uri</td>\n",
       "      <td>http://dbpedia.org/resource/Category:Electroni...</td>\n",
       "    </tr>\n",
       "    <tr>\n",
       "      <th>2</th>\n",
       "      <td>typed-literal</td>\n",
       "      <td>http://www.w3.org/2001/XMLSchema#integer</td>\n",
       "      <td>3</td>\n",
       "      <td>uri</td>\n",
       "      <td>http://dbpedia.org/resource/Category:Electroni...</td>\n",
       "      <td>uri</td>\n",
       "      <td>http://dbpedia.org/resource/Category:Electroni...</td>\n",
       "    </tr>\n",
       "    <tr>\n",
       "      <th>3</th>\n",
       "      <td>typed-literal</td>\n",
       "      <td>http://www.w3.org/2001/XMLSchema#integer</td>\n",
       "      <td>3</td>\n",
       "      <td>uri</td>\n",
       "      <td>http://dbpedia.org/resource/Category:Electroni...</td>\n",
       "      <td>uri</td>\n",
       "      <td>http://dbpedia.org/resource/Category:Electroni...</td>\n",
       "    </tr>\n",
       "    <tr>\n",
       "      <th>4</th>\n",
       "      <td>typed-literal</td>\n",
       "      <td>http://www.w3.org/2001/XMLSchema#integer</td>\n",
       "      <td>3</td>\n",
       "      <td>uri</td>\n",
       "      <td>http://dbpedia.org/resource/Category:Electroni...</td>\n",
       "      <td>uri</td>\n",
       "      <td>http://dbpedia.org/resource/Category:Electroni...</td>\n",
       "    </tr>\n",
       "  </tbody>\n",
       "</table>\n",
       "</div>"
      ],
      "text/plain": [
       "      level.type                            level.datatype level.value r.type  \\\n",
       "0  typed-literal  http://www.w3.org/2001/XMLSchema#integer           3    uri   \n",
       "1  typed-literal  http://www.w3.org/2001/XMLSchema#integer           3    uri   \n",
       "2  typed-literal  http://www.w3.org/2001/XMLSchema#integer           3    uri   \n",
       "3  typed-literal  http://www.w3.org/2001/XMLSchema#integer           3    uri   \n",
       "4  typed-literal  http://www.w3.org/2001/XMLSchema#integer           3    uri   \n",
       "\n",
       "                                             r.value c1.type  \\\n",
       "0  http://dbpedia.org/resource/Category:Electroni...     uri   \n",
       "1  http://dbpedia.org/resource/Category:Electroni...     uri   \n",
       "2  http://dbpedia.org/resource/Category:Electroni...     uri   \n",
       "3  http://dbpedia.org/resource/Category:Electroni...     uri   \n",
       "4  http://dbpedia.org/resource/Category:Electroni...     uri   \n",
       "\n",
       "                                            c1.value  \n",
       "0  http://dbpedia.org/resource/Category:Computer_...  \n",
       "1  http://dbpedia.org/resource/Category:Electroni...  \n",
       "2  http://dbpedia.org/resource/Category:Electroni...  \n",
       "3  http://dbpedia.org/resource/Category:Electroni...  \n",
       "4  http://dbpedia.org/resource/Category:Electroni...  "
      ]
     },
     "execution_count": 10,
     "metadata": {},
     "output_type": "execute_result"
    }
   ],
   "source": [
    "resultados"
   ]
  },
  {
   "cell_type": "code",
   "execution_count": 11,
   "metadata": {},
   "outputs": [
    {
     "data": {
      "text/html": [
       "<div>\n",
       "<style scoped>\n",
       "    .dataframe tbody tr th:only-of-type {\n",
       "        vertical-align: middle;\n",
       "    }\n",
       "\n",
       "    .dataframe tbody tr th {\n",
       "        vertical-align: top;\n",
       "    }\n",
       "\n",
       "    .dataframe thead th {\n",
       "        text-align: right;\n",
       "    }\n",
       "</style>\n",
       "<table border=\"1\" class=\"dataframe\">\n",
       "  <thead>\n",
       "    <tr style=\"text-align: right;\">\n",
       "      <th></th>\n",
       "      <th>level.value</th>\n",
       "      <th>r.value</th>\n",
       "      <th>c1.value</th>\n",
       "    </tr>\n",
       "  </thead>\n",
       "  <tbody>\n",
       "    <tr>\n",
       "      <th>0</th>\n",
       "      <td>3</td>\n",
       "      <td>http://dbpedia.org/resource/Category:Electroni...</td>\n",
       "      <td>http://dbpedia.org/resource/Category:Computer_...</td>\n",
       "    </tr>\n",
       "    <tr>\n",
       "      <th>1</th>\n",
       "      <td>3</td>\n",
       "      <td>http://dbpedia.org/resource/Category:Electroni...</td>\n",
       "      <td>http://dbpedia.org/resource/Category:Electroni...</td>\n",
       "    </tr>\n",
       "    <tr>\n",
       "      <th>2</th>\n",
       "      <td>3</td>\n",
       "      <td>http://dbpedia.org/resource/Category:Electroni...</td>\n",
       "      <td>http://dbpedia.org/resource/Category:Electroni...</td>\n",
       "    </tr>\n",
       "  </tbody>\n",
       "</table>\n",
       "</div>"
      ],
      "text/plain": [
       "  level.value                                            r.value  \\\n",
       "0           3  http://dbpedia.org/resource/Category:Electroni...   \n",
       "1           3  http://dbpedia.org/resource/Category:Electroni...   \n",
       "2           3  http://dbpedia.org/resource/Category:Electroni...   \n",
       "\n",
       "                                            c1.value  \n",
       "0  http://dbpedia.org/resource/Category:Computer_...  \n",
       "1  http://dbpedia.org/resource/Category:Electroni...  \n",
       "2  http://dbpedia.org/resource/Category:Electroni...  "
      ]
     },
     "execution_count": 11,
     "metadata": {},
     "output_type": "execute_result"
    }
   ],
   "source": [
    "# Filter the columns that are of interest.\n",
    "resultados = resultados[['level.value', 'r.value', 'c1.value']]\n",
    "\n",
    "resultados.head(3)"
   ]
  },
  {
   "cell_type": "code",
   "execution_count": 12,
   "metadata": {},
   "outputs": [
    {
     "name": "stdout",
     "output_type": "stream",
     "text": [
      "['http://dbpedia.org/resource/Category:Computer_recycling', 'http://dbpedia.org/resource/Category:Electronic_waste_in_Africa', 'http://dbpedia.org/resource/Category:Electronic_waste_in_Europe', 'http://dbpedia.org/resource/Category:Electronic_waste_in_Asia', 'http://dbpedia.org/resource/Category:Electronic_waste_by_country']\n"
     ]
    }
   ],
   "source": [
    "# Assuming your DataFrame is named df and you want to transform the 'column_name' column\n",
    "column_list = resultados['c1.value'].tolist()\n",
    "\n",
    "# Display the resulting list\n",
    "print(column_list)\n"
   ]
  },
  {
   "cell_type": "code",
   "execution_count": null,
   "metadata": {},
   "outputs": [],
   "source": []
  }
 ],
 "metadata": {
  "kernelspec": {
   "display_name": "Python 3",
   "language": "python",
   "name": "python3"
  },
  "language_info": {
   "codemirror_mode": {
    "name": "ipython",
    "version": 3
   },
   "file_extension": ".py",
   "mimetype": "text/x-python",
   "name": "python",
   "nbconvert_exporter": "python",
   "pygments_lexer": "ipython3",
   "version": "3.10.6"
  },
  "orig_nbformat": 4
 },
 "nbformat": 4,
 "nbformat_minor": 2
}
